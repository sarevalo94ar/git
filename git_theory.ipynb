{
 "cells": [
  {
   "cell_type": "markdown",
   "metadata": {},
   "source": [
    "# GIT\n",
    "Git es un software de control de versiones diseñado por Linus Torvalds, pensando en la eficiencia, la confiabilidad y compatibilidad del mantenimiento de versiones de aplicaciones cuando estas tienen un gran número de archivos de código fuente. Su propósito es llevar registro de los cambios en archivos de computadora incluyendo coordinar el trabajo que varias personas realizan sobre archivos compartidos en un repositorio de código.\n",
    "\n",
    "<img src=\"img1.png\">"
   ]
  },
  {
   "cell_type": "markdown",
   "metadata": {},
   "source": [
    "\n",
    "<img src=\"objeto.png\">\n"
   ]
  },
  {
   "cell_type": "code",
   "execution_count": 11,
   "metadata": {},
   "outputs": [
    {
     "name": "stdout",
     "output_type": "stream",
     "text": [
      "el largo del carro es: 250\n"
     ]
    }
   ],
   "source": [
    "class coche():\n",
    "    largoChasis=250\n",
    "    anchoChasis=120\n",
    "    ruedas=4\n",
    "    enmarcha=False\n",
    "\n",
    "def arrancar(self): #self o this -el metodo resive como primer parametro \"y es obligatorio\"\n",
    "    pass            #pass solo evita error al no retornar nada \n",
    "\n",
    "miCoche=coche()\n",
    "print(\"el largo del carro es:\",miCoche.largoChasis)\n"
   ]
  },
  {
   "cell_type": "code",
   "execution_count": 12,
   "metadata": {},
   "outputs": [
    {
     "name": "stdout",
     "output_type": "stream",
     "text": [
      "El lartgo de mi coche es: 250\n",
      "El coche tiene 4 ruedas\n",
      "el coche está en marcha\n",
      "el coche tiene 4 ruedas. un ancho de  120 y un largo de .  250\n",
      "None\n",
      "------------ A continuacion creamos el segundo objeto---------\n",
      "El largo de mi coche es: 250\n",
      "el coche tiene  4 ruedas\n",
      "el coche esta parado\n",
      "el coche tiene 4 ruedas. un ancho de  120 y un largo de .  250\n"
     ]
    }
   ],
   "source": [
    "class coche():\n",
    "    largoChasis = 250 # estado incial del objeto\n",
    "    anchoChasis = 120 #\n",
    "    ruedas = 4\n",
    "    enmarcha = False\n",
    "    def arrancar(self,arrancamos):  # self o this -el metodo resive como primer parametro \"y es obligatorio\"\n",
    "        self.enmarcha=arrancamos\n",
    "\n",
    "        if(self.enmarcha):\n",
    "            return \"el coche está en marcha\"\n",
    "        else:\n",
    "            return \"el coche esta parado\"\n",
    "\n",
    "    def estado(self):\n",
    "        print(\"el coche tiene\",self.ruedas,\"ruedas. un ancho de \",self.anchoChasis,\"y un largo de . \",\n",
    "        self.largoChasis)\n",
    "\n",
    "\n",
    "miCoche = coche() #objeto 1\n",
    "\n",
    "print(\"El lartgo de mi coche es:\",miCoche.largoChasis)\n",
    "print(\"El coche tiene\", miCoche.ruedas, \"ruedas\")\n",
    "print(miCoche.arrancar(True))\n",
    "print(miCoche.estado())\n",
    "\n",
    "print(\"------------ A continuacion creamos el segundo objeto---------\")\n",
    "\n",
    "miCoche2 = coche()  # objeto 2\n",
    "print(\"El largo de mi coche es:\",miCoche2.largoChasis)\n",
    "print(\"el coche tiene \",miCoche2.ruedas,\"ruedas\")\n",
    "print(miCoche.arrancar(False))\n",
    "miCoche2.estado()\n",
    "#la clase tiene 4 propiedades\n",
    "#dos comportamientos"
   ]
  },
  {
   "cell_type": "markdown",
   "metadata": {},
   "source": [
    "## constructor\n",
    "metodo encargado de asignar los comportamientos y caracteristicas inciales de un objeto.\n",
    "En al celda anterior solo se asinanlas caracteristicas por defecto sin usar un metodo"
   ]
  },
  {
   "cell_type": "code",
   "execution_count": 3,
   "metadata": {},
   "outputs": [
    {
     "name": "stdout",
     "output_type": "stream",
     "text": [
      "El lartgo de mi coche es: 250\n",
      "El coche tiene 4 ruedas\n",
      "el coche está en marcha\n",
      "el coche tiene 4 ruedas. un ancho de  120 y un largo de .  250\n",
      "None\n",
      "------------ A continuacion creamos el segundo objeto---------\n",
      "El largo de mi coche es: 250\n",
      "el coche esta parado\n",
      "el coche tiene 5 ruedas. un ancho de  120 y un largo de .  250\n"
     ]
    }
   ],
   "source": [
    "class coche():\n",
    "    def __init__(self):\n",
    "        self.largoChasis = 250  # estado incial del objeto\n",
    "        self.anchoChasis = 120\n",
    "        self.ruedas = 4\n",
    "        self.enmarcha = False\n",
    "\n",
    "    # self o this -el metodo resive como primer parametro \"y es obligatorio\"\n",
    "    def arrancar(self, arrancamos):\n",
    "        self.enmarcha = arrancamos\n",
    "\n",
    "        if(self.enmarcha):\n",
    "            return \"el coche está en marcha\"\n",
    "        else:\n",
    "            return \"el coche esta parado\"\n",
    "\n",
    "    def estado(self):\n",
    "        print(\"el coche tiene\", self.ruedas, \"ruedas. un ancho de \", self.anchoChasis, \"y un largo de . \",\n",
    "              self.largoChasis)\n",
    "\n",
    "\n",
    "miCoche = coche()  # objeto 1\n",
    "\n",
    "print(\"El lartgo de mi coche es:\", miCoche.largoChasis)\n",
    "print(\"El coche tiene\", miCoche.ruedas, \"ruedas\")\n",
    "print(miCoche.arrancar(True))\n",
    "print(miCoche.estado())\n",
    "\n",
    "print(\"------------ A continuacion creamos el segundo objeto---------\")\n",
    "\n",
    "miCoche2 = coche()  # objeto 2\n",
    "\n",
    "print(\"El largo de mi coche es:\", miCoche2.largoChasis)\n",
    "\n",
    "print(miCoche.arrancar(False))\n",
    "\n",
    "miCoche2.ruedas=2\n",
    "\n",
    "miCoche2.estado()\n",
    "#la clase tiene 4 propiedades\n",
    "#dos comportamientos\n"
   ]
  },
  {
   "cell_type": "markdown",
   "metadata": {},
   "source": [
    "## Encasulamiento \n",
    "Es la accion de proteger la modificacion de una propiedad o metodo de una clase o en otras palabras restringir su acceso "
   ]
  },
  {
   "cell_type": "code",
   "execution_count": 20,
   "metadata": {},
   "outputs": [
    {
     "name": "stdout",
     "output_type": "stream",
     "text": [
      "el coche está en marcha\n",
      "el coche tiene 4 ruedas. un ancho de  120 y un largo de .  250\n",
      "------------ A continuacion creamos el segundo objeto---------\n",
      "el coche esta parado\n",
      "el coche tiene 4 ruedas. un ancho de  120 y un largo de .  250\n"
     ]
    }
   ],
   "source": [
    "class coche():\n",
    "    def __init__(self):\n",
    "        self.largoChasis = 250  # estado incial del objeto\n",
    "        self.anchoChasis = 120\n",
    "        self.__ruedas = 4 # propiedad encapsulada\n",
    "        self.enmarcha = False\n",
    "\n",
    "    # self o this -el metodo resive como primer parametro \"y es obligatorio\"\n",
    "    def arrancar(self, arrancamos):\n",
    "        self.enmarcha = arrancamos\n",
    "\n",
    "        if(self.enmarcha):\n",
    "            return \"el coche está en marcha\"\n",
    "        else:\n",
    "            return \"el coche esta parado\"\n",
    "\n",
    "    def estado(self):\n",
    "        print(\"el coche tiene\", self.__ruedas, \"ruedas. un ancho de \", self.anchoChasis, \"y un largo de . \",\n",
    "              self.largoChasis)\n",
    "\n",
    "\n",
    "miCoche = coche()  # objeto 1\n",
    "\n",
    "\n",
    "print(miCoche.arrancar(True))\n",
    "miCoche.estado()\n",
    "\n",
    "print(\"------------ A continuacion creamos el segundo objeto---------\")\n",
    "\n",
    "miCoche2 = coche()  # objeto 2\n",
    "\n",
    "\n",
    "print(miCoche.arrancar(False))\n",
    "\n",
    "miCoche2.__ruedas = 2 # al estar encapsuladada la propiedad ruedas ,los cambios no se pueden hacer fuera de la clase \n",
    "\n",
    "miCoche2.estado()\n",
    "\n",
    "#la clase tiene 4 propiedades\n",
    "#dos comportamientos\n"
   ]
  },
  {
   "cell_type": "code",
   "execution_count": 22,
   "metadata": {},
   "outputs": [
    {
     "name": "stdout",
     "output_type": "stream",
     "text": [
      "relizando chequeo interno \n",
      "el coche está en marcha\n",
      "el coche tiene 4 ruedas. un ancho de  120 y un largo de .  250\n",
      "------------ A continuacion creamos el segundo objeto---------\n",
      "el coche esta parado\n",
      "el coche tiene 4 ruedas. un ancho de  120 y un largo de .  250\n"
     ]
    }
   ],
   "source": [
    "class coche():\n",
    "    def __init__(self):\n",
    "        self.__largoChasis = 250  # estado incial del objeto\n",
    "        self.__anchoChasis = 120\n",
    "        self.__ruedas = 4  # propiedad encapsulada\n",
    "        self.__enmarcha = False\n",
    "\n",
    "    # self o this -el metodo resive como primer parametro \"y es obligatorio\"\n",
    "    def arrancar(self, arrancamos):\n",
    "        self.__enmarcha = arrancamos\n",
    "\n",
    "        if(self.__enmarcha):\n",
    "            chequeo=self.__chequeo_interno()\n",
    "\n",
    "        if(self.__enmarcha and chequeo):\n",
    "            return \"el coche está en marcha\"\n",
    "        elif(self.__enmarcha and chequeo==False):\n",
    "            return \"algo a ido mal en el chequeo. no podemos arrancar\"\n",
    "        else:\n",
    "            return \"el coche esta parado\"\n",
    "    def estado(self):\n",
    "        print(\"el coche tiene\", self.__ruedas, \"ruedas. un ancho de \", self.__anchoChasis, \"y un largo de . \",\n",
    "              self.__largoChasis)\n",
    "    def __chequeo_interno(self):\n",
    "        print(\"relizando chequeo interno \")\n",
    "\n",
    "        self.gasolina=\"ok\"\n",
    "        self.aceite=\"ok\"\n",
    "        self.puertas=\"cerradas\"\n",
    "\n",
    "        if(self.gasolina==\"ok\" and self.aceite==\"ok\" and self.puertas==\"cerradas\"):\n",
    "            return True\n",
    "        else:\n",
    "            return False\n",
    "\n",
    "\n",
    "miCoche = coche()  # objeto 1\n",
    "\n",
    "\n",
    "print(miCoche.arrancar(True))\n",
    "miCoche.estado()\n",
    "\n",
    "print(\"------------ A continuacion creamos el segundo objeto---------\")\n",
    "\n",
    "miCoche2 = coche()  # objeto 2\n",
    "\n",
    "print(miCoche2.arrancar(False))\n",
    "\n",
    "miCoche2.estado()\n",
    "\n",
    "#la clase tiene 4 propiedades\n",
    "#dos comportamientos\n"
   ]
  },
  {
   "cell_type": "markdown",
   "metadata": {},
   "source": [
    "## Herencia \n",
    "\n",
    "<img src=\"herencia.png\">"
   ]
  },
  {
   "cell_type": "markdown",
   "metadata": {},
   "source": [
    "se puede eredar caracteristica y metodos esto con el fin de ahorrrar codigo"
   ]
  },
  {
   "cell_type": "code",
   "execution_count": 4,
   "metadata": {},
   "outputs": [
    {
     "name": "stdout",
     "output_type": "stream",
     "text": [
      "marca: honda \n",
      "modelo: cbr \n",
      "Enmarcha: False \n",
      "Acelerando:  False \n",
      "Frenando: False \n",
      " voy haciendo el caballito\n"
     ]
    }
   ],
   "source": [
    "class vehivulos():\n",
    "    def __init__(self,marca,modelo):\n",
    "        self.marca=marca\n",
    "        self.modelo=modelo\n",
    "        self.enmarcha=False\n",
    "        self.acelera=False\n",
    "        self.frena=False\n",
    "\n",
    "    def arrancar(self):\n",
    "        self.enmarcha=True\n",
    "    def acelerar(self):\n",
    "        self.frena=True\n",
    "    def frenar(self):\n",
    "        self.frena=True\n",
    "    def estado(self):\n",
    "        print(\"marca:\",self.marca,\"\\nmodelo:\",self.modelo,\n",
    "        \"\\nEnmarcha:\",self.enmarcha,\"\\nAcelerando: \",self.acelera\n",
    "        ,\"\\nFrenando:\",self.frena)\n",
    "        \n",
    "class Moto(vehivulos):\n",
    "    hcaballito=\"\"\n",
    "    def caballito(self):\n",
    "        self.hcaballito=\"voy haciendo el caballito\"\n",
    "\n",
    "    def estado(self):  #sobre escrbir metodo agregando parametro h caballito -- se ejecuta el metodo estado Moto\n",
    "        print(\"marca:\", self.marca, \"\\nmodelo:\", self.modelo,\n",
    "              \"\\nEnmarcha:\", self.enmarcha, \"\\nAcelerando: \", \n",
    "              self.acelera, \"\\nFrenando:\", self.frena,\"\\n\",self.hcaballito)\n",
    "\n",
    "\n",
    "\n",
    "miMoto=Moto(\"honda\",\"cbr\")\n",
    "miMoto.caballito()\n",
    "miMoto.estado()\n"
   ]
  },
  {
   "cell_type": "code",
   "execution_count": null,
   "metadata": {},
   "outputs": [],
   "source": [
    "#herencia multiple y mas cosas\n",
    "class vehivulos():\n",
    "    def __init__(self, marca, modelo):\n",
    "        self.marca = marca\n",
    "        self.modelo = modelo\n",
    "        self.enmarcha = False\n",
    "        self.acelera = False\n",
    "        self.frena = False\n",
    "\n",
    "    def arrancar(self):\n",
    "        self.enmarcha = True\n",
    "\n",
    "    def acelerar(self):\n",
    "        self.frena = True\n",
    "\n",
    "    def frenar(self):\n",
    "        self.frena = True\n",
    "\n",
    "    def estado(self):\n",
    "        print(\"marca:\", self.marca, \"\\nmodelo:\", self.modelo,\n",
    "              \"\\nEnmarcha:\", self.enmarcha, \"\\nAcelerando: \", self.acelera, \"\\nFrenando:\", self.frena)\n",
    "\n",
    "\n",
    "class Furgoneta(vehiculos):\n",
    "    def carga(self,)\n",
    "\n",
    "class Moto(vehivulos):\n",
    "    hcaballito = \"\"\n",
    "\n",
    "    def caballito(self):\n",
    "        self.hcaballito = \"voy haciendo el caballito\"\n",
    "\n",
    "    def estado(self):  # sobre escrbir metodo agregando parametro h caballito -- se ejecuta el metodo estado Moto\n",
    "        print(\"marca:\", self.marca, \"\\nmodelo:\", self.modelo,\n",
    "              \"\\nEnmarcha:\", self.enmarcha, \"\\nAcelerando: \",\n",
    "              self.acelera, \"\\nFrenando:\", self.frena, \"\\n\", self.hcaballito)\n",
    "\n",
    "\n",
    "miMoto = Moto(\"honda\", \"cbr\")\n",
    "miMoto.caballito()\n",
    "miMoto.estado()\n"
   ]
  }
 ],
 "metadata": {
  "interpreter": {
   "hash": "55a5a22e89ea3c13da9553c07469b81d7e458eb062f61cedbcf22e06d4f6ecde"
  },
  "kernelspec": {
   "display_name": "Python 3.8.0 64-bit",
   "language": "python",
   "name": "python3"
  },
  "language_info": {
   "codemirror_mode": {
    "name": "ipython",
    "version": 3
   },
   "file_extension": ".py",
   "mimetype": "text/x-python",
   "name": "python",
   "nbconvert_exporter": "python",
   "pygments_lexer": "ipython3",
   "version": "3.8.0"
  },
  "orig_nbformat": 4
 },
 "nbformat": 4,
 "nbformat_minor": 2
}
